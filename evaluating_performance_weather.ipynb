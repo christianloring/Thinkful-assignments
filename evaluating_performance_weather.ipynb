{
  "nbformat": 4,
  "nbformat_minor": 0,
  "metadata": {
    "colab": {
      "name": "evaluating_performance_weather.ipynb",
      "provenance": [],
      "authorship_tag": "ABX9TyNGd6aD5lVwYEO+RSr7opRF",
      "include_colab_link": true
    },
    "kernelspec": {
      "name": "python3",
      "display_name": "Python 3"
    },
    "language_info": {
      "name": "python"
    }
  },
  "cells": [
    {
      "cell_type": "markdown",
      "metadata": {
        "id": "view-in-github",
        "colab_type": "text"
      },
      "source": [
        "<a href=\"https://colab.research.google.com/github/christianloring/Thinkful-assignments/blob/main/evaluating_performance_weather.ipynb\" target=\"_parent\"><img src=\"https://colab.research.google.com/assets/colab-badge.svg\" alt=\"Open In Colab\"/></a>"
      ]
    },
    {
      "cell_type": "code",
      "metadata": {
        "colab": {
          "base_uri": "https://localhost:8080/"
        },
        "id": "3wRyUuQco5cs",
        "outputId": "dfee0426-2a55-434a-bd8c-ae7fff44a9b7"
      },
      "source": [
        "import matplotlib.pyplot as plt\n",
        "import numpy as np\n",
        "import pandas as pd\n",
        "from sklearn import linear_model\n",
        "import statsmodels.formula.api as smf\n",
        "from sqlalchemy import create_engine\n",
        "import statsmodels.api as sm\n",
        "\n",
        "# Display preferences\n",
        "%matplotlib inline\n",
        "pd.options.display.float_format = '{:.3f}'.format\n",
        "\n",
        "import warnings\n",
        "warnings.filterwarnings(action=\"ignore\")\n",
        "\n",
        "postgres_user = 'dsbc_student'\n",
        "postgres_pw = '7*.8G9QH21'\n",
        "postgres_host = '142.93.121.174'\n",
        "postgres_port = '5432'\n",
        "postgres_db = 'weatherinszeged'\n",
        "\n",
        "engine = create_engine('postgresql://{}:{}@{}:{}/{}'.format(\n",
        "    postgres_user, postgres_pw, postgres_host, postgres_port, postgres_db))\n",
        "\n",
        "weather_df = pd.read_sql_query('select * from weatherinszeged',con=engine)\n",
        "\n",
        "# No need for an open connection, because you're only doing a single query\n",
        "engine.dispose()"
      ],
      "execution_count": null,
      "outputs": [
        {
          "output_type": "stream",
          "name": "stderr",
          "text": [
            "/usr/local/lib/python3.7/dist-packages/statsmodels/tools/_testing.py:19: FutureWarning: pandas.util.testing is deprecated. Use the functions in the public API at pandas.testing instead.\n",
            "  import pandas.util.testing as tm\n"
          ]
        }
      ]
    },
    {
      "cell_type": "code",
      "metadata": {
        "colab": {
          "base_uri": "https://localhost:8080/"
        },
        "id": "CqvSEjsCpFeT",
        "outputId": "0bfaf355-c6c2-4129-849a-167ea16ead43"
      },
      "source": [
        "# Target is diff between temp and apparenttemp\n",
        "# Explained by humidity and windspeed\n",
        "Y = weather_df[\"temperature\"] - weather_df[\"apparenttemperature\"]\n",
        "X = weather_df[[\"humidity\", \"windspeed\"]]\n",
        "# Fit method estimates the coefficients using OLS\n",
        "X = sm.add_constant(X)\n",
        "results = sm.OLS(Y, X).fit()\n",
        "# Inspect the results\n",
        "print(results.summary())"
      ],
      "execution_count": null,
      "outputs": [
        {
          "output_type": "stream",
          "name": "stdout",
          "text": [
            "                            OLS Regression Results                            \n",
            "==============================================================================\n",
            "Dep. Variable:                      y   R-squared:                       0.288\n",
            "Model:                            OLS   Adj. R-squared:                  0.288\n",
            "Method:                 Least Squares   F-statistic:                 1.949e+04\n",
            "Date:                Fri, 26 Nov 2021   Prob (F-statistic):               0.00\n",
            "Time:                        05:09:54   Log-Likelihood:            -1.7046e+05\n",
            "No. Observations:               96453   AIC:                         3.409e+05\n",
            "Df Residuals:                   96450   BIC:                         3.409e+05\n",
            "Df Model:                           2                                         \n",
            "Covariance Type:            nonrobust                                         \n",
            "==============================================================================\n",
            "                 coef    std err          t      P>|t|      [0.025      0.975]\n",
            "------------------------------------------------------------------------------\n",
            "const         -2.4381      0.021   -115.948      0.000      -2.479      -2.397\n",
            "humidity       3.0292      0.024    126.479      0.000       2.982       3.076\n",
            "windspeed      0.1193      0.001    176.164      0.000       0.118       0.121\n",
            "==============================================================================\n",
            "Omnibus:                     3935.747   Durbin-Watson:                   0.267\n",
            "Prob(Omnibus):                  0.000   Jarque-Bera (JB):             4613.311\n",
            "Skew:                           0.478   Prob(JB):                         0.00\n",
            "Kurtosis:                       3.484   Cond. No.                         88.1\n",
            "==============================================================================\n",
            "\n",
            "Warnings:\n",
            "[1] Standard Errors assume that the covariance matrix of the errors is correctly specified.\n"
          ]
        }
      ]
    },
    {
      "cell_type": "markdown",
      "metadata": {
        "id": "CeCiW9agpqE0"
      },
      "source": [
        "R sq = adj R sq = 0.288.\n",
        "This seems unsatisfactory, values between 0.7-0.9 would be more ideal and this is far from that."
      ]
    },
    {
      "cell_type": "code",
      "metadata": {
        "colab": {
          "base_uri": "https://localhost:8080/"
        },
        "id": "uGGuG2bQpgcw",
        "outputId": "01c65ed7-7bc4-4bd2-b832-4011a9c4d8f4"
      },
      "source": [
        "# Target is diff between temp and apparenttemp\n",
        "# Explained by humidity, windspeed, and their interaction\n",
        "weather_df[\"humid_windspeed\"] = weather_df[\"humidity\"] * weather_df[\"windspeed\"]\n",
        "Y = weather_df[\"temperature\"] - weather_df[\"apparenttemperature\"]\n",
        "X = weather_df[[\"humidity\", \"windspeed\", \"humid_windspeed\"]]\n",
        "# Fit method estimates the coefficients using OLS\n",
        "X = sm.add_constant(X)\n",
        "results = sm.OLS(Y, X).fit()\n",
        "# Inspect the results\n",
        "print(results.summary())"
      ],
      "execution_count": null,
      "outputs": [
        {
          "output_type": "stream",
          "name": "stdout",
          "text": [
            "                            OLS Regression Results                            \n",
            "==============================================================================\n",
            "Dep. Variable:                      y   R-squared:                       0.341\n",
            "Model:                            OLS   Adj. R-squared:                  0.341\n",
            "Method:                 Least Squares   F-statistic:                 1.666e+04\n",
            "Date:                Fri, 26 Nov 2021   Prob (F-statistic):               0.00\n",
            "Time:                        05:11:55   Log-Likelihood:            -1.6669e+05\n",
            "No. Observations:               96453   AIC:                         3.334e+05\n",
            "Df Residuals:                   96449   BIC:                         3.334e+05\n",
            "Df Model:                           3                                         \n",
            "Covariance Type:            nonrobust                                         \n",
            "===================================================================================\n",
            "                      coef    std err          t      P>|t|      [0.025      0.975]\n",
            "-----------------------------------------------------------------------------------\n",
            "const              -0.0839      0.033     -2.511      0.012      -0.149      -0.018\n",
            "humidity           -0.1775      0.043     -4.133      0.000      -0.262      -0.093\n",
            "windspeed          -0.0905      0.002    -36.797      0.000      -0.095      -0.086\n",
            "humid_windspeed     0.2971      0.003     88.470      0.000       0.291       0.304\n",
            "==============================================================================\n",
            "Omnibus:                     4849.937   Durbin-Watson:                   0.265\n",
            "Prob(Omnibus):                  0.000   Jarque-Bera (JB):             9295.404\n",
            "Skew:                           0.378   Prob(JB):                         0.00\n",
            "Kurtosis:                       4.320   Cond. No.                         193.\n",
            "==============================================================================\n",
            "\n",
            "Warnings:\n",
            "[1] Standard Errors assume that the covariance matrix of the errors is correctly specified.\n"
          ]
        }
      ]
    },
    {
      "cell_type": "markdown",
      "metadata": {
        "id": "6l6TuAapqJP7"
      },
      "source": [
        "r^2 = adj r^2 = 0.341, which is better but still not good enough. The model is improved."
      ]
    },
    {
      "cell_type": "code",
      "metadata": {
        "colab": {
          "base_uri": "https://localhost:8080/"
        },
        "id": "8BlD4FvMqEA0",
        "outputId": "5d5163db-c910-4035-b2a4-155e333917f0"
      },
      "source": [
        "# Target is diff between temp and apparenttemp\n",
        "# Explained by humidity, visibility and windspeed\n",
        "Y = weather_df[\"temperature\"] - weather_df[\"apparenttemperature\"]\n",
        "X = weather_df[[\"humidity\", \"windspeed\", \"visibility\"]]\n",
        "# Fit method estimates the coefficients using OLS\n",
        "X = sm.add_constant(X)\n",
        "results = sm.OLS(Y, X).fit()\n",
        "# Inspect the results\n",
        "print(results.summary())"
      ],
      "execution_count": null,
      "outputs": [
        {
          "output_type": "stream",
          "name": "stdout",
          "text": [
            "                            OLS Regression Results                            \n",
            "==============================================================================\n",
            "Dep. Variable:                      y   R-squared:                       0.304\n",
            "Model:                            OLS   Adj. R-squared:                  0.303\n",
            "Method:                 Least Squares   F-statistic:                 1.401e+04\n",
            "Date:                Fri, 26 Nov 2021   Prob (F-statistic):               0.00\n",
            "Time:                        05:13:07   Log-Likelihood:            -1.6938e+05\n",
            "No. Observations:               96453   AIC:                         3.388e+05\n",
            "Df Residuals:                   96449   BIC:                         3.388e+05\n",
            "Df Model:                           3                                         \n",
            "Covariance Type:            nonrobust                                         \n",
            "==============================================================================\n",
            "                 coef    std err          t      P>|t|      [0.025      0.975]\n",
            "------------------------------------------------------------------------------\n",
            "const         -1.5756      0.028    -56.605      0.000      -1.630      -1.521\n",
            "humidity       2.6066      0.025    102.784      0.000       2.557       2.656\n",
            "windspeed      0.1199      0.001    179.014      0.000       0.119       0.121\n",
            "visibility    -0.0540      0.001    -46.614      0.000      -0.056      -0.052\n",
            "==============================================================================\n",
            "Omnibus:                     3833.895   Durbin-Watson:                   0.282\n",
            "Prob(Omnibus):                  0.000   Jarque-Bera (JB):             4584.022\n",
            "Skew:                           0.459   Prob(JB):                         0.00\n",
            "Kurtosis:                       3.545   Cond. No.                         131.\n",
            "==============================================================================\n",
            "\n",
            "Warnings:\n",
            "[1] Standard Errors assume that the covariance matrix of the errors is correctly specified.\n"
          ]
        }
      ]
    },
    {
      "cell_type": "markdown",
      "metadata": {
        "id": "lpF5M-YzqXkh"
      },
      "source": [
        "Better than first, worse than second. The interaction is better as it explains ~4% more of the unexplained variance compared to the one with visibility. The second model has the best AIC and BIC scores."
      ]
    },
    {
      "cell_type": "code",
      "metadata": {
        "id": "y08eN0NMqVku"
      },
      "source": [
        ""
      ],
      "execution_count": null,
      "outputs": []
    }
  ]
}